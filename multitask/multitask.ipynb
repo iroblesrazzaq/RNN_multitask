{
 "cells": [
  {
   "cell_type": "code",
   "execution_count": 3,
   "metadata": {},
   "outputs": [],
   "source": [
    "import task, tools, model, train, standard_analysis\n",
    "from task import generate_trials\n",
    "import RNN_rate_dynamics\n"
   ]
  },
  {
   "cell_type": "code",
   "execution_count": 5,
   "metadata": {},
   "outputs": [
    {
     "name": "stdout",
     "output_type": "stream",
     "text": [
      "Trial       0  | Time 0.00 s  | Now training fdgo & reactgo & delaygo & fdanti & reactanti & delayanti & dm1 & dm2 & contextdm1 & contextdm2 & multidm & delaydm1 & delaydm2 & contextdelaydm1 & contextdelaydm2 & multidelaydm & dmsgo & dmsnogo & dmcgo & dmcnogo\n",
      "fdgo           | cost 0.551426| c_reg 0.000000  | perf 0.35\n",
      "reactgo        | cost 0.615076| c_reg 0.000000  | perf 0.12\n",
      "delaygo        | cost 0.495009| c_reg 0.000000  | perf 0.20\n",
      "fdanti         | cost 0.539453| c_reg 0.000000  | perf 0.35\n",
      "reactanti      | cost 0.565434| c_reg 0.000000  | perf 0.45\n",
      "delayanti      | cost 0.454208| c_reg 0.000000  | perf 0.20\n",
      "dm1            | cost 0.634912| c_reg 0.000000  | perf 0.19\n",
      "dm2            | cost 0.579128| c_reg 0.000000  | perf 0.19\n",
      "contextdm1     | cost 0.568764| c_reg 0.000000  | perf 0.20\n",
      "contextdm2     | cost 0.658903| c_reg 0.000000  | perf 0.21\n",
      "multidm        | cost 0.662677| c_reg 0.000000  | perf 0.24\n",
      "delaydm1       | cost 0.394930| c_reg 0.000000  | perf 0.19\n",
      "delaydm2       | cost 0.398893| c_reg 0.000000  | perf 0.19\n",
      "contextdelaydm1| cost 0.384065| c_reg 0.000000  | perf 0.21\n",
      "contextdelaydm2| cost 0.419896| c_reg 0.000000  | perf 0.21\n",
      "multidelaydm   | cost 0.427422| c_reg 0.000000  | perf 0.18\n",
      "dmsgo          | cost 0.552071| c_reg 0.000000  | perf 0.09\n",
      "dmsnogo        | cost 0.561264| c_reg 0.000000  | perf 0.12\n",
      "dmcgo          | cost 0.506588| c_reg 0.000000  | perf 0.07\n",
      "dmcnogo        | cost 0.297459| c_reg 0.000000  | perf 0.11\n",
      "Optimization interrupted by user\n",
      "Optimization finished!\n"
     ]
    }
   ],
   "source": [
    "\n",
    "hp, log, optimizer = train.set_hyperparameters(model_dir='debug', hp={'learning_rate': 0.001}, ruleset='all') #, rich_output=True)\n",
    "run_model = model.Run_Model(hp, RNN_rate_dynamics.RNNLayer)\n",
    "train.train(run_model, optimizer, hp, log)"
   ]
  }
 ],
 "metadata": {
  "kernelspec": {
   "display_name": "env1",
   "language": "python",
   "name": "python3"
  },
  "language_info": {
   "codemirror_mode": {
    "name": "ipython",
    "version": 3
   },
   "file_extension": ".py",
   "mimetype": "text/x-python",
   "name": "python",
   "nbconvert_exporter": "python",
   "pygments_lexer": "ipython3",
   "version": "3.11.6"
  }
 },
 "nbformat": 4,
 "nbformat_minor": 2
}
