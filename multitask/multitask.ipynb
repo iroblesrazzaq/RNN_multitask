{
 "cells": [
  {
   "cell_type": "code",
   "execution_count": 3,
   "metadata": {},
   "outputs": [],
   "source": [
    "import task, tools, model, train, standard_analysis\n",
    "from task import generate_trials\n",
    "import RNN_rate_dynamics\n"
   ]
  },
  {
   "cell_type": "code",
   "execution_count": 6,
   "metadata": {},
   "outputs": [
    {
     "name": "stdout",
     "output_type": "stream",
     "text": [
      "Trial       0  | Time 0.00 s  | Now training fdgo & reactgo & delaygo & fdanti & reactanti & delayanti & dm1 & dm2 & contextdm1 & contextdm2 & multidm & delaydm1 & delaydm2 & contextdelaydm1 & contextdelaydm2 & multidelaydm & dmsgo & dmsnogo & dmcgo & dmcnogo\n",
      "fdgo           | cost 0.532337| c_reg 0.000000  | perf 0.29\n",
      "reactgo        | cost 0.617584| c_reg 0.000000  | perf 0.33\n",
      "delaygo        | cost 0.510306| c_reg 0.000000  | perf 0.22\n",
      "fdanti         | cost 0.541326| c_reg 0.000000  | perf 0.06\n",
      "reactanti      | cost 0.583196| c_reg 0.000000  | perf 0.10\n",
      "delayanti      | cost 0.464380| c_reg 0.000000  | perf 0.20\n",
      "dm1            | cost 0.627956| c_reg 0.000000  | perf 0.20\n",
      "dm2            | cost 0.590272| c_reg 0.000000  | perf 0.19\n",
      "contextdm1     | cost 0.570421| c_reg 0.000000  | perf 0.18\n",
      "contextdm2     | cost 0.635220| c_reg 0.000000  | perf 0.21\n",
      "multidm        | cost 0.653229| c_reg 0.000000  | perf 0.18\n",
      "delaydm1       | cost 0.385816| c_reg 0.000000  | perf 0.21\n",
      "delaydm2       | cost 0.398292| c_reg 0.000000  | perf 0.25\n",
      "contextdelaydm1| cost 0.378170| c_reg 0.000000  | perf 0.18\n",
      "contextdelaydm2| cost 0.418692| c_reg 0.000000  | perf 0.19\n",
      "multidelaydm   | cost 0.425070| c_reg 0.000000  | perf 0.20\n",
      "dmsgo          | cost 0.543119| c_reg 0.000000  | perf 0.12\n",
      "dmsnogo        | cost 0.645979| c_reg 0.000000  | perf 0.13\n",
      "dmcgo          | cost 0.479304| c_reg 0.000000  | perf 0.09\n",
      "dmcnogo        | cost 0.326359| c_reg 0.000000  | perf 0.11\n",
      "Optimization interrupted by user\n",
      "Optimization finished!\n"
     ]
    }
   ],
   "source": [
    "\n",
    "hp, log, optimizer = train.set_hyperparameters(model_dir='debug', hp={'learning_rate': 0.001}, ruleset='all') #, rich_output=True)\n",
    "run_model = model.Run_Model(hp, RNN_rate_dynamics.RNNLayer)\n",
    "train.train(run_model, optimizer, hp, log)"
   ]
  }
 ],
 "metadata": {
  "kernelspec": {
   "display_name": "env1",
   "language": "python",
   "name": "python3"
  },
  "language_info": {
   "codemirror_mode": {
    "name": "ipython",
    "version": 3
   },
   "file_extension": ".py",
   "mimetype": "text/x-python",
   "name": "python",
   "nbconvert_exporter": "python",
   "pygments_lexer": "ipython3",
   "version": "3.11.6"
  }
 },
 "nbformat": 4,
 "nbformat_minor": 2
}
